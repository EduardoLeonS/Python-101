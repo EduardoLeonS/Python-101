{
 "cells": [
  {
   "cell_type": "markdown",
   "metadata": {},
   "source": [
    "# Working with Built-In Functions in Lists"
   ]
  },
  {
   "cell_type": "markdown",
   "metadata": {},
   "source": [
    "## *Insert Method .insert()*"
   ]
  },
  {
   "cell_type": "markdown",
   "metadata": {},
   "source": [
    "The Python method **_insert()_** adds a new element to a specific index in a list. This method takes two inputs:\n",
    "\n",
    "* Index where the data will be inserted\n",
    "* Element to add \n",
    "\n",
    "**NOTE**: the order and number of the inputs is important, this method expects 2 inputs; the first one a *numerical index* followed by any value as the second input. \n",
    "\n",
    "When an element is inserted into a list, all the elements from the specified index and up to the last index are shifted one index to the right."
   ]
  },
  {
   "cell_type": "code",
   "execution_count": 1,
   "metadata": {},
   "outputs": [
    {
     "name": "stdout",
     "output_type": "stream",
     "text": [
      "['Karla', 'Maxium', 'Viktor', 'Martim', 'Isabella']\n"
     ]
    }
   ],
   "source": [
    "store_line = [\"Karla\", \"Maxium\", \"Martim\", \"Isabella\"]\n",
    "store_line.insert(2, \"Viktor\")\n",
    "print(store_line)"
   ]
  },
  {
   "cell_type": "markdown",
   "metadata": {},
   "source": [
    "## *Pop Method *.pop()*: "
   ]
  },
  {
   "cell_type": "markdown",
   "metadata": {},
   "source": [
    "The *.pop()* method allows to remove elements at a specific index and only takes one input: the index of the element you want to remove. \n",
    "\n",
    "**NOTE**: by default the *.pop()* method always removes the last element of a list without an specific index."
   ]
  },
  {
   "cell_type": "code",
   "execution_count": 6,
   "metadata": {},
   "outputs": [
    {
     "name": "stdout",
     "output_type": "stream",
     "text": [
      "Clowns 101\n",
      "Balloon Making\n",
      "['Python', 'Data Structures', 'Algorithms', 'Clowns 101']\n"
     ]
    }
   ],
   "source": [
    "#Default method:\n",
    "cs_topic = [\"Python\", \"Data Structures\", \"Balloon Making\", \"Algorithms\", \"Clowns 101\"]\n",
    "removed_element = cs_topic.pop()\n",
    "print(removed_element)\n",
    "\n",
    "#Define Index to remove:\n",
    "cs_topic = [\"Python\", \"Data Structures\", \"Balloon Making\", \"Algorithms\", \"Clowns 101\"]\n",
    "removed_index = cs_topic.pop(2)\n",
    "print(removed_index)\n",
    "print(cs_topic)"
   ]
  },
  {
   "cell_type": "markdown",
   "metadata": {},
   "source": [
    "## *Working with Ranges* "
   ]
  },
  {
   "cell_type": "markdown",
   "metadata": {},
   "source": [
    "The function *.range()* takes a single input, and generates numbers starting at 0 and ending at the number **before** the input. \n",
    "\n",
    "**my_range = range(10)**: (0,10) \n",
    "\n",
    "When the *Range* function is applied it creates a new range object, but in order to use it as a list it is neccesary to convert it using the Built-In function *list()*. The *list()* function converts a specified range into a new list object. "
   ]
  },
  {
   "cell_type": "code",
   "execution_count": 8,
   "metadata": {},
   "outputs": [
    {
     "name": "stdout",
     "output_type": "stream",
     "text": [
      "[0, 1, 2, 3, 4, 5, 6, 7, 8, 9, 10]\n"
     ]
    }
   ],
   "source": [
    "number_list = range(11)\n",
    "print(list(number_list))"
   ]
  },
  {
   "cell_type": "markdown",
   "metadata": {},
   "source": [
    "Adding a third input into a range function creates a list that skips numbers, the third input indicates the counting that the  elements in the list increases its values. Having only 2 inputs indicates the starting and ending that the range will have. "
   ]
  },
  {
   "cell_type": "code",
   "execution_count": 9,
   "metadata": {},
   "outputs": [
    {
     "name": "stdout",
     "output_type": "stream",
     "text": [
      "[1, 11, 21, 31, 41, 51, 61, 71, 81, 91]\n"
     ]
    }
   ],
   "source": [
    "my_range3 = range(1, 100, 10)\n",
    "print(list(my_range3))"
   ]
  },
  {
   "cell_type": "markdown",
   "metadata": {},
   "source": [
    "## *Length* "
   ]
  },
  {
   "cell_type": "markdown",
   "metadata": {},
   "source": [
    "The Built-In function *len()* finds the number of items stored in a list.\n",
    "\n",
    "**NOTE**: Range objects do not need to be converted to lists in order to determine their lenght."
   ]
  },
  {
   "cell_type": "code",
   "execution_count": 12,
   "metadata": {},
   "outputs": [
    {
     "name": "stdout",
     "output_type": "stream",
     "text": [
      "5\n",
      "300\n"
     ]
    }
   ],
   "source": [
    "my_list = [1, 2, 3, 4, 5]\n",
    "print(len(my_list))\n",
    "\n",
    "#length in Ranges\n",
    "range_list = range(2, 3000, 10)\n",
    "range_list_length = len(range_list)\n",
    "print(range_list_length)"
   ]
  },
  {
   "cell_type": "markdown",
   "metadata": {},
   "source": [
    "## *Slicing Lists* "
   ]
  },
  {
   "cell_type": "markdown",
   "metadata": {},
   "source": [
    "Slicing a Lists consists in extracting a portion of a list, to slice a lists must follow the sintaxis **_list[start:end]_** where:\n",
    "\n",
    "* Start: is the index of the first element that we want to include in our selection. \n",
    "* End: is the index of one more than the last index that we want to include.  "
   ]
  },
  {
   "cell_type": "code",
   "execution_count": 13,
   "metadata": {},
   "outputs": [
    {
     "name": "stdout",
     "output_type": "stream",
     "text": [
      "['shirt', 'shirt']\n"
     ]
    }
   ],
   "source": [
    "suitcase = [\"shirt\", \"shirt\", \"pants\", \"pants\", \"pajamas\", \"books\"]\n",
    "beginning = suitcase[0:2]\n",
    "print(beginning)"
   ]
  },
  {
   "cell_type": "markdown",
   "metadata": {},
   "source": [
    "To select the first element the sintaxis goes **list[:n]**, the semicolon : indicates the starting index of our slicing which in this case starts at the index 0. \n",
    "\n",
    "In case we need to select the last element the sintaxis is similar but the semicolon goes at the end **list[-n:]**, the negative index denotes where to start counting up to the end of the list. Negative indices acclomplish taking all but *n* last elements of a list."
   ]
  },
  {
   "cell_type": "code",
   "execution_count": 16,
   "metadata": {},
   "outputs": [
    {
     "name": "stdout",
     "output_type": "stream",
     "text": [
      "['pajamas', 'books']\n",
      "['shirt', 'shirt']\n"
     ]
    }
   ],
   "source": [
    "#Sintaxis to slice the last 2 elements of the suitcase list:\n",
    "last_two_elements = suitcase[-2:]\n",
    "print(last_two_elements)\n",
    "\n",
    "#Sintaxis to slice the first 2 elements of the suitcase list:\n",
    "first_two_elements = suitcase[:2]\n",
    "print(first_two_elements)"
   ]
  },
  {
   "cell_type": "markdown",
   "metadata": {},
   "source": [
    "## *Counting in a List* "
   ]
  },
  {
   "cell_type": "markdown",
   "metadata": {},
   "source": [
    "To count the elements in a list the function *.count()* is applied to know how many times an element i appears in this word. The function returns a value that must be assigned into a variable to use it. "
   ]
  },
  {
   "cell_type": "code",
   "execution_count": 22,
   "metadata": {},
   "outputs": [
    {
     "name": "stdout",
     "output_type": "stream",
     "text": [
      "2\n"
     ]
    }
   ],
   "source": [
    "number_collection = [[100, 200], [100, 200], [475, 29], [34, 34]]\n",
    "num_pairs = number_collection.count([100, 200])\n",
    "print(num_pairs)"
   ]
  },
  {
   "cell_type": "markdown",
   "metadata": {},
   "source": [
    "## *Sorting Lists* "
   ]
  },
  {
   "cell_type": "markdown",
   "metadata": {},
   "source": [
    "The sorting method *.sort()* returns a list sorted either in numerical or alphabetical order. By instance the sort method sorts the list in alphabetical order, but also provides the option to go in reverse (descending order). \n",
    "\n",
    "**NOTE**: the sort method does not return any value and thus does not need to be assigned to a variable since it modifies the list directly. If we do assign the result of the method, it would assign the value *NONE* to the variable."
   ]
  },
  {
   "cell_type": "code",
   "execution_count": 27,
   "metadata": {},
   "outputs": [
    {
     "name": "stdout",
     "output_type": "stream",
     "text": [
      "['Connor', 'Dana', 'Emma', 'Jen', 'Rhent', 'William']\n",
      "['William', 'Rhent', 'Jen', 'Emma', 'Dana', 'Connor']\n"
     ]
    }
   ],
   "source": [
    "names = [\"Connor\", \"Emma\", \"Dana\", \"Jen\", \"Rhent\", \"William\"]\n",
    "names.sort()\n",
    "print(names)\n",
    "\n",
    "names.sort(reverse=True)\n",
    "print(names)"
   ]
  },
  {
   "cell_type": "markdown",
   "metadata": {},
   "source": [
    "Another way to sort a list in Python is with the *.sorted()* method; unlike sort *.sorted()* always comes before a list, instead of after the built-in function and it **generates a new list** rather than modifying the one that already exists.  "
   ]
  },
  {
   "cell_type": "code",
   "execution_count": 28,
   "metadata": {},
   "outputs": [
    {
     "name": "stdout",
     "output_type": "stream",
     "text": [
      "['Connor', 'Dana', 'Emma', 'Jen', 'Rhent', 'William']\n"
     ]
    }
   ],
   "source": [
    "sorted_names = sorted(names)\n",
    "print(sorted_names)"
   ]
  },
  {
   "cell_type": "markdown",
   "metadata": {},
   "source": [
    "## Review "
   ]
  },
  {
   "cell_type": "code",
   "execution_count": 29,
   "metadata": {},
   "outputs": [],
   "source": [
    "inventory = [\"twin bed\", \"twin bed\", \"headboard\", \"queen bed\", \"king bed\", \"dresser\", \"dresser\", \"table\", \"table\", \"nightstand\", \"nightstand\", \"king bed\", \"king bed\", \"twin bed\", \"twin bed\", \"sheets\", \"sheets\", \"pillow\", \"pillow\"]"
   ]
  },
  {
   "cell_type": "markdown",
   "metadata": {},
   "source": [
    "1.- Create a variable called **inventory_len** that shows how many items are stored in the inventory variable."
   ]
  },
  {
   "cell_type": "code",
   "execution_count": 30,
   "metadata": {},
   "outputs": [
    {
     "name": "stdout",
     "output_type": "stream",
     "text": [
      "19\n"
     ]
    }
   ],
   "source": [
    "inventory_len = len(inventory)\n",
    "print(inventory_len)"
   ]
  },
  {
   "cell_type": "markdown",
   "metadata": {},
   "source": [
    "2.- Select the first element inventory into a variable called **first**."
   ]
  },
  {
   "cell_type": "code",
   "execution_count": 31,
   "metadata": {},
   "outputs": [
    {
     "name": "stdout",
     "output_type": "stream",
     "text": [
      "['twin bed']\n"
     ]
    }
   ],
   "source": [
    "first = inventory[:1]\n",
    "print(first)"
   ]
  },
  {
   "cell_type": "markdown",
   "metadata": {},
   "source": [
    "3.- Select the last element inventory into a new variable called **last**."
   ]
  },
  {
   "cell_type": "code",
   "execution_count": 32,
   "metadata": {},
   "outputs": [
    {
     "name": "stdout",
     "output_type": "stream",
     "text": [
      "['pillow']\n"
     ]
    }
   ],
   "source": [
    "last = inventory[-1:]\n",
    "print(last)"
   ]
  },
  {
   "cell_type": "markdown",
   "metadata": {},
   "source": [
    "4.- Select the items from the inventory starting index at 2 and up to but not including index 6 into a new variable called **inventory_2_6**."
   ]
  },
  {
   "cell_type": "code",
   "execution_count": 33,
   "metadata": {},
   "outputs": [
    {
     "name": "stdout",
     "output_type": "stream",
     "text": [
      "['headboard', 'queen bed', 'king bed', 'dresser']\n"
     ]
    }
   ],
   "source": [
    "inventory_2_6 = inventory[2:6]\n",
    "print(inventory_2_6)"
   ]
  },
  {
   "cell_type": "markdown",
   "metadata": {},
   "source": [
    "5.- Select the first three elements in inventory into a new variable called **first_3**."
   ]
  },
  {
   "cell_type": "code",
   "execution_count": 35,
   "metadata": {},
   "outputs": [
    {
     "name": "stdout",
     "output_type": "stream",
     "text": [
      "['twin bed', 'twin bed', 'headboard']\n"
     ]
    }
   ],
   "source": [
    "first_3 = inventory[:3]\n",
    "print(first_3)"
   ]
  },
  {
   "cell_type": "markdown",
   "metadata": {},
   "source": [
    "6.- Count the number of times that *twin bed* shows in the inventory list, save it into a new variable called **twin_beds**."
   ]
  },
  {
   "cell_type": "code",
   "execution_count": 37,
   "metadata": {},
   "outputs": [
    {
     "name": "stdout",
     "output_type": "stream",
     "text": [
      "4\n"
     ]
    }
   ],
   "source": [
    "twin_beds = inventory.count(\"twin bed\")\n",
    "print(twin_beds)"
   ]
  },
  {
   "cell_type": "markdown",
   "metadata": {},
   "source": [
    "5.- Remove the index 5 from the list, save it into a new variable called **removed_item**."
   ]
  },
  {
   "cell_type": "code",
   "execution_count": 41,
   "metadata": {},
   "outputs": [
    {
     "name": "stdout",
     "output_type": "stream",
     "text": [
      "dresser\n"
     ]
    }
   ],
   "source": [
    "removed_item = inventory.pop(5)\n",
    "print(removed_item)"
   ]
  },
  {
   "cell_type": "markdown",
   "metadata": {},
   "source": [
    "6.- Insert the new inventory called \"19th Century Bed Frame\" using the *.insert()*.  "
   ]
  },
  {
   "cell_type": "code",
   "execution_count": 44,
   "metadata": {},
   "outputs": [
    {
     "name": "stdout",
     "output_type": "stream",
     "text": [
      "['twin bed', 'twin bed', 'headboard', 'queen bed', 'king bed', 'dresser', 'table', 'table', 'nightstand', 'nightstand', 'king bed', '19th Century Bed Frame', '19th Century Bed Frame', 'king bed', 'twin bed', 'twin bed', 'sheets', 'sheets', 'pillow', 'pillow']\n"
     ]
    }
   ],
   "source": [
    "inventory.insert(11, \"19th Century Bed Frame\")\n",
    "print(inventory)"
   ]
  },
  {
   "cell_type": "markdown",
   "metadata": {},
   "source": [
    "7.- Sort the list with either the sort or sorted method."
   ]
  },
  {
   "cell_type": "code",
   "execution_count": 46,
   "metadata": {},
   "outputs": [
    {
     "name": "stdout",
     "output_type": "stream",
     "text": [
      "['19th Century Bed Frame', '19th Century Bed Frame', 'dresser', 'headboard', 'king bed', 'king bed', 'king bed', 'nightstand', 'nightstand', 'pillow', 'pillow', 'queen bed', 'sheets', 'sheets', 'table', 'table', 'twin bed', 'twin bed', 'twin bed', 'twin bed']\n"
     ]
    }
   ],
   "source": [
    "inventory.sort()\n",
    "print(inventory)"
   ]
  }
 ],
 "metadata": {
  "kernelspec": {
   "display_name": "Python 3",
   "language": "python",
   "name": "python3"
  },
  "language_info": {
   "codemirror_mode": {
    "name": "ipython",
    "version": 3
   },
   "file_extension": ".py",
   "mimetype": "text/x-python",
   "name": "python",
   "nbconvert_exporter": "python",
   "pygments_lexer": "ipython3",
   "version": "3.8.3"
  }
 },
 "nbformat": 4,
 "nbformat_minor": 4
}
