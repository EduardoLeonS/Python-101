{
 "cells": [
  {
   "cell_type": "markdown",
   "metadata": {},
   "source": [
    "# Lists in Python "
   ]
  },
  {
   "cell_type": "markdown",
   "metadata": {},
   "source": [
    "A *list* in Python that allows to work with a collection of data in a sequal order. Lists is a built-in data structure. A list always contains:\n",
    "\n",
    "* Start with square brackets [ ]\n",
    "* Each element must be separated by commas.\n",
    "* A good practice is to insert a space after each comma."
   ]
  },
  {
   "cell_type": "code",
   "execution_count": 1,
   "metadata": {},
   "outputs": [],
   "source": [
    "heights = [61, 70, 67, 64]"
   ]
  },
  {
   "cell_type": "markdown",
   "metadata": {},
   "source": [
    "Lists can contain different types of values such as Strings, Integers, Booleans and Floats."
   ]
  },
  {
   "cell_type": "code",
   "execution_count": 2,
   "metadata": {},
   "outputs": [],
   "source": [
    "mixed_common_list = [\"Mia\", 27, False, 0.5]"
   ]
  },
  {
   "cell_type": "markdown",
   "metadata": {},
   "source": [
    "### Empty Lists "
   ]
  },
  {
   "cell_type": "markdown",
   "metadata": {},
   "source": [
    "An *empty list* is a one that does not contain data within it, the objective of using empty lists is to filling it up later based on some other input. The sintaxis is:\n",
    "\n",
    "new_empty_list = [ ]"
   ]
  },
  {
   "cell_type": "markdown",
   "metadata": {},
   "source": [
    "### Lists Methods "
   ]
  },
  {
   "cell_type": "markdown",
   "metadata": {},
   "source": [
    "Python allow us to apply built-in functionalities to lists, this functionalities can manipulate, create and delete the data. \n",
    "\n",
    "* **list_name.method()\n",
    "\n",
    "One of the most popular methods is **_.append( )_**, this allows us to add an element to a specified list but it always goes at the end of it. "
   ]
  },
  {
   "cell_type": "code",
   "execution_count": 3,
   "metadata": {},
   "outputs": [
    {
     "name": "stdout",
     "output_type": "stream",
     "text": [
      "['This', 'is', 'an', 'example', 'list']\n"
     ]
    }
   ],
   "source": [
    "example_list = [\"This\", \"is\", \"an\", \"example\"]\n",
    "example_list.append(\"list\")\n",
    "print(example_list)"
   ]
  },
  {
   "cell_type": "code",
   "execution_count": 4,
   "metadata": {},
   "outputs": [
    {
     "name": "stdout",
     "output_type": "stream",
     "text": [
      "['Tomatoes', 'Grapes', 'Cauliflower', 'Green Beans']\n"
     ]
    }
   ],
   "source": [
    "garden = [\"Tomatoes\", \"Grapes\", \"Cauliflower\"]\n",
    "garden.append(\"Green Beans\")\n",
    "print(garden)"
   ]
  },
  {
   "cell_type": "markdown",
   "metadata": {},
   "source": [
    "### Growing a List using + Method "
   ]
  },
  {
   "cell_type": "markdown",
   "metadata": {},
   "source": [
    "Another method to grow a list in Python is using the + operator, this allows to combine two or more lists. Applying the + is known as **_Concatenation_**."
   ]
  },
  {
   "cell_type": "code",
   "execution_count": 6,
   "metadata": {},
   "outputs": [
    {
     "name": "stdout",
     "output_type": "stream",
     "text": [
      "['cake', 'cookie', 'bread', 'biscuit', 'tart']\n"
     ]
    }
   ],
   "source": [
    "items_sold = [\"cake\", \"cookie\", \"bread\"]\n",
    "items_sold_updated = items_sold + [\"biscuit\", \"tart\"]\n",
    "print(items_sold_updated)"
   ]
  },
  {
   "cell_type": "markdown",
   "metadata": {},
   "source": [
    "To add elements to a new list the value always must be on square brackets otherwise Python will throw the error:\n",
    "\n",
    "* **TypeError: can only concatenate list (not \"int\") to list**"
   ]
  },
  {
   "cell_type": "markdown",
   "metadata": {},
   "source": [
    "### Accessing Lists Elements"
   ]
  },
  {
   "cell_type": "markdown",
   "metadata": {},
   "source": [
    "In Python we call the location of an element in a list its *index* these are zero-indexed. The first element always is 0 instead of 1. To select a specified element we use a square bracket [ ] and the index in the list item. \n",
    "\n",
    "**NOTE** if we tried to access an element of an array for a float value the call must indicate to retrieve the selection in string form: **_calls(int[4/2])_**."
   ]
  },
  {
   "cell_type": "code",
   "execution_count": 8,
   "metadata": {},
   "outputs": [
    {
     "name": "stdout",
     "output_type": "stream",
     "text": [
      "Pam\n"
     ]
    }
   ],
   "source": [
    "employees = [\"Michael\", \"Dwight\", \"Jim\", \"Pam\", \"Ryan\", \"Andy\", \"Robert\"]\n",
    "employee_fourth = employees[3]\n",
    "print(employee_fourth)"
   ]
  },
  {
   "cell_type": "markdown",
   "metadata": {},
   "source": [
    "### Accessing Lists: Negative Index"
   ]
  },
  {
   "cell_type": "markdown",
   "metadata": {},
   "source": [
    "To select the last element within a list we use the index *(-1)* even though we don´t know how many elements are contained in the list. "
   ]
  },
  {
   "cell_type": "code",
   "execution_count": 9,
   "metadata": {},
   "outputs": [
    {
     "name": "stdout",
     "output_type": "stream",
     "text": [
      "love\n"
     ]
    }
   ],
   "source": [
    "pancake_recipe = [\"eggs\", \"flour\", \"butter\", \"milk\", \"sugar\", \"love\"]\n",
    "print(pancake_recipe[-1])"
   ]
  },
  {
   "cell_type": "markdown",
   "metadata": {},
   "source": [
    "### Modifying Lists Elements "
   ]
  },
  {
   "cell_type": "markdown",
   "metadata": {},
   "source": [
    "To modify a element inside a list it is possible by change the value by the index location."
   ]
  },
  {
   "cell_type": "code",
   "execution_count": 11,
   "metadata": {},
   "outputs": [
    {
     "name": "stdout",
     "output_type": "stream",
     "text": [
      "['Tomatoes', 'Green Beans', 'Strawberries', 'Mangoes']\n"
     ]
    }
   ],
   "source": [
    "garden = [\"Tomatoes\", \"Green Beans\", \"Cauliflower\", \"Grapes\"]\n",
    "garden[2] = \"Strawberries\"\n",
    "garden[-1] = \"Mangoes\"\n",
    "print(garden)"
   ]
  },
  {
   "cell_type": "markdown",
   "metadata": {},
   "source": [
    "### Remove Elements in a List "
   ]
  },
  {
   "cell_type": "markdown",
   "metadata": {},
   "source": [
    "To remove an element stored within a list the method **_.remove( )_**: "
   ]
  },
  {
   "cell_type": "code",
   "execution_count": 12,
   "metadata": {},
   "outputs": [
    {
     "name": "stdout",
     "output_type": "stream",
     "text": [
      "['Cole', 'Kip', 'Sylvana']\n"
     ]
    }
   ],
   "source": [
    "shopping_line = [\"Cole\", \"Kip\", \"Chris\", \"Sylvana\"]\n",
    "shopping_line.remove(\"Chris\")\n",
    "print(shopping_line)"
   ]
  },
  {
   "cell_type": "markdown",
   "metadata": {},
   "source": [
    "###  Two Dimensionals (2D) Lists"
   ]
  },
  {
   "cell_type": "markdown",
   "metadata": {},
   "source": [
    "A *Two Dimensional (2D) List* is list that contains other list in its inside. The procedure to create a 2D List is the same to create a single but every different list must be separeted by commas."
   ]
  },
  {
   "cell_type": "code",
   "execution_count": 13,
   "metadata": {},
   "outputs": [],
   "source": [
    "heights = [[\"Jenny\", 61], [\"Alexus\", 70], [\"Sam\", 67], [\"Grace\", 64]]"
   ]
  },
  {
   "cell_type": "markdown",
   "metadata": {},
   "source": [
    "#### Accessing 2D Lists"
   ]
  },
  {
   "cell_type": "markdown",
   "metadata": {},
   "source": [
    "Accessing elements in 2D Lists follows the same method as the single list, but instead of providing a single pair of brackets it is neccessary to use an additional set for each dimension. First access the sublist and then access the 1st index of that sublist."
   ]
  },
  {
   "cell_type": "code",
   "execution_count": 15,
   "metadata": {},
   "outputs": [
    {
     "name": "stdout",
     "output_type": "stream",
     "text": [
      "61\n"
     ]
    }
   ],
   "source": [
    "heights = [[\"Noelle\", 61], [\"Ali\", 70], [\"Sam\", 67]]\n",
    "noelles_height = heights[0][1]\n",
    "print(noelles_height)"
   ]
  },
  {
   "cell_type": "markdown",
   "metadata": {},
   "source": [
    "#### Modifying 2D Lists"
   ]
  },
  {
   "cell_type": "markdown",
   "metadata": {},
   "source": [
    "To modify an element in a 2D Lists is neccesary to access by their index and then change its value."
   ]
  },
  {
   "cell_type": "code",
   "execution_count": 17,
   "metadata": {},
   "outputs": [
    {
     "name": "stdout",
     "output_type": "stream",
     "text": [
      "[['Jenny', 'Meditation'], ['Alexus', 'Photography'], ['Grace', 'Soccer']]\n"
     ]
    }
   ],
   "source": [
    "class_name_hobbies = [[\"Jenny\", \"Breakdancing\"], [\"Alexus\", \"Photography\"], [\"Grace\", \"Soccer\"]]\n",
    "class_name_hobbies[0][1] = \"Meditation\"\n",
    "print(class_name_hobbies)"
   ]
  },
  {
   "cell_type": "markdown",
   "metadata": {},
   "source": [
    "## Review"
   ]
  },
  {
   "cell_type": "markdown",
   "metadata": {},
   "source": [
    "Michelle is entering customer data for her web store business, first she must create a list with the name of her clients."
   ]
  },
  {
   "cell_type": "markdown",
   "metadata": {},
   "source": [
    "1.- Create a list named **_first_names_** with the following names: Ainsley, Ben, Chani and Depak."
   ]
  },
  {
   "cell_type": "code",
   "execution_count": 18,
   "metadata": {},
   "outputs": [],
   "source": [
    "first_names = [\"Ainsley\", \"Ben\", \"Chani\", \"Depak\"]"
   ]
  },
  {
   "cell_type": "markdown",
   "metadata": {},
   "source": [
    "2.- Create a list named **_preferred_size_** that contains the different sizes: Small, Medium and Large."
   ]
  },
  {
   "cell_type": "code",
   "execution_count": 19,
   "metadata": {},
   "outputs": [],
   "source": [
    "preferred_size = [\"Small\", \"Medium\", \"Large\"]"
   ]
  },
  {
   "cell_type": "markdown",
   "metadata": {},
   "source": [
    "3.- Add a new record to the preferred_size list using **.append()** method."
   ]
  },
  {
   "cell_type": "code",
   "execution_count": 20,
   "metadata": {},
   "outputs": [
    {
     "name": "stdout",
     "output_type": "stream",
     "text": [
      "['Small', 'Medium', 'Large', 'Medium']\n"
     ]
    }
   ],
   "source": [
    "preferred_size.append(\"Medium\")\n",
    "print(preferred_size)"
   ]
  },
  {
   "cell_type": "markdown",
   "metadata": {},
   "source": [
    "4.- Michelle wants to create a 2D List to having a better visualization in her clients and their sizes. Create a 2D List merging the customers with their sizes and add a third value that reflects if they want expedited shipping on their orders."
   ]
  },
  {
   "cell_type": "code",
   "execution_count": 21,
   "metadata": {},
   "outputs": [
    {
     "name": "stdout",
     "output_type": "stream",
     "text": [
      "[['Ainsley', 'Small', True], ['Ben', 'Large', False], ['Chani', 'Medium', True], ['Depak', 'Medium', False]]\n"
     ]
    }
   ],
   "source": [
    "customer_data = [[\"Ainsley\", \"Small\", True], [\"Ben\", \"Large\", False], [\"Chani\", \"Medium\", True], [\"Depak\", \"Medium\", False]]\n",
    "print(customer_data)"
   ]
  },
  {
   "cell_type": "markdown",
   "metadata": {},
   "source": [
    "5.- It is neccesary to change the \"Chani\" record from True to False."
   ]
  },
  {
   "cell_type": "code",
   "execution_count": 22,
   "metadata": {},
   "outputs": [
    {
     "name": "stdout",
     "output_type": "stream",
     "text": [
      "[['Ainsley', 'Small', True], ['Ben', 'Large', False], ['Chani', 'Medium', False], ['Depak', 'Medium', False]]\n"
     ]
    }
   ],
   "source": [
    "customer_data[-2][2] = False\n",
    "print(customer_data)"
   ]
  },
  {
   "cell_type": "markdown",
   "metadata": {},
   "source": [
    "6.- Ben contacted Michelle asking her to remove his shipping option. With the method **.remove()** delete the shipping option to Ben record. "
   ]
  },
  {
   "cell_type": "code",
   "execution_count": 23,
   "metadata": {},
   "outputs": [
    {
     "name": "stdout",
     "output_type": "stream",
     "text": [
      "[['Ainsley', 'Small', True], ['Ben', 'Large'], ['Chani', 'Medium', False], ['Depak', 'Medium', False]]\n"
     ]
    }
   ],
   "source": [
    "customer_data[1].remove(False)\n",
    "print(customer_data)"
   ]
  },
  {
   "cell_type": "markdown",
   "metadata": {},
   "source": [
    "7.- Michelle received two new customers, add [[\"Amit\", \"Large\", True], [\"Karim\", \"X-Large\", False]] to the customer_data list."
   ]
  },
  {
   "cell_type": "code",
   "execution_count": 24,
   "metadata": {},
   "outputs": [
    {
     "name": "stdout",
     "output_type": "stream",
     "text": [
      "[['Ainsley', 'Small', True], ['Ben', 'Large'], ['Chani', 'Medium', False], ['Depak', 'Medium', False], ['Amit', 'Large', True], ['Karim', 'X-Large', False]]\n"
     ]
    }
   ],
   "source": [
    "customer_data_final = customer_data + [[\"Amit\", \"Large\", True], [\"Karim\", \"X-Large\", False]]\n",
    "print(customer_data_final)"
   ]
  },
  {
   "cell_type": "code",
   "execution_count": null,
   "metadata": {},
   "outputs": [],
   "source": []
  }
 ],
 "metadata": {
  "kernelspec": {
   "display_name": "Python 3",
   "language": "python",
   "name": "python3"
  },
  "language_info": {
   "codemirror_mode": {
    "name": "ipython",
    "version": 3
   },
   "file_extension": ".py",
   "mimetype": "text/x-python",
   "name": "python",
   "nbconvert_exporter": "python",
   "pygments_lexer": "ipython3",
   "version": "3.8.3"
  }
 },
 "nbformat": 4,
 "nbformat_minor": 4
}
