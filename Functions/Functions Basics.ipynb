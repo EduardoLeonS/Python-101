{
 "cells": [
  {
   "cell_type": "markdown",
   "metadata": {},
   "source": [
    "# Introduction to Functions in Python:"
   ]
  },
  {
   "cell_type": "markdown",
   "metadata": {},
   "source": [
    "A function in Python follows three components:\n",
    "\n",
    "* **_def_**: this keyword indicates the beginning of our function, it always follows an designed name for the created function. Normally the function name goes according the task performed. \n",
    "\n",
    "* **_()_**: after the name function the parenthesis will store the parameters used.\n",
    "\n",
    "* **_:_** : lastly the colon indicates the end of the function"
   ]
  },
  {
   "cell_type": "code",
   "execution_count": 2,
   "metadata": {},
   "outputs": [
    {
     "name": "stdout",
     "output_type": "stream",
     "text": [
      "Functions on Python rocks!\n"
     ]
    }
   ],
   "source": [
    "def function_basic():\n",
    "    print(\"Functions on Python rocks!\")\n",
    "\n",
    "function_basic()    "
   ]
  },
  {
   "cell_type": "markdown",
   "metadata": {},
   "source": [
    "### *Parameters & Arguments* "
   ]
  },
  {
   "cell_type": "markdown",
   "metadata": {},
   "source": [
    "The parameters allows to accept data as an input value, these parameters goes inside the parenthesis ():\n",
    "\n",
    "* **_def my_function(single_parameter)_**\n",
    "\n",
    "The argument is the data that is passed in when we call the function and assigned to the parameter name.\n",
    "\n",
    "* **_my_function(Testing)_**"
   ]
  },
  {
   "cell_type": "code",
   "execution_count": 4,
   "metadata": {},
   "outputs": [
    {
     "name": "stdout",
     "output_type": "stream",
     "text": [
      "Looks like you are planning a trip to visit Central Park\n",
      "You can use the public subway system to get to Central Park\n"
     ]
    }
   ],
   "source": [
    "def generate_trip_instructions(location):\n",
    "    print(\"Looks like you are planning a trip to visit \" + location)\n",
    "    print(\"You can use the public subway system to get to \" + location)\n",
    "\n",
    "generate_trip_instructions(\"Central Park\")    "
   ]
  },
  {
   "cell_type": "markdown",
   "metadata": {},
   "source": [
    "#### Multiple Parameters"
   ]
  },
  {
   "cell_type": "markdown",
   "metadata": {},
   "source": [
    "A function can take two or more parameters and it is neccesary to pass the argument values for both of them. Ordering is important due their position will map to the position of the arguments and will determined their assigned value in the function body."
   ]
  },
  {
   "cell_type": "code",
   "execution_count": 6,
   "metadata": {},
   "outputs": [
    {
     "name": "stdout",
     "output_type": "stream",
     "text": [
      "105 95 200\n"
     ]
    }
   ],
   "source": [
    "def calculate_expenses(plane_ticket_price,car_rental_rate, hotel_rate, trip_time):\n",
    "    car_rental_total = car_rental_rate + trip_time\n",
    "    hotel_total = hotel_rate + trip_time - 10\n",
    "    print(car_rental_total, hotel_total, plane_ticket_price)\n",
    "\n",
    "calculate_expenses(200,100,100,5)    "
   ]
  },
  {
   "cell_type": "markdown",
   "metadata": {},
   "source": [
    "### *Types of arguments* "
   ]
  },
  {
   "cell_type": "markdown",
   "metadata": {},
   "source": [
    "Python has three types of arguments which could be used within the functions. \n",
    "\n",
    "* **_Positional Arguments_**: this types of arguments can be called by their position in the function position. Theis assignments depend on their positions in the function call. \n",
    "\n",
    "* **_Keyword Arguments_** : arguments called by their name, refers to what each argument is assigned to in the function call. Ex: calculate_taxi_price **(rate = 0.5)**:\n",
    "\n",
    "* **_Default Arguments_** : arguments with a default value."
   ]
  },
  {
   "cell_type": "code",
   "execution_count": 7,
   "metadata": {},
   "outputs": [
    {
     "name": "stdout",
     "output_type": "stream",
     "text": [
      "Here is what your trip will look like!\n",
      "First we will stop in France then Germany , and lastly Denmark\n"
     ]
    }
   ],
   "source": [
    "def trip_planner(first_destination, second_destination, final_destination):\n",
    "    print(\"Here is what your trip will look like!\")\n",
    "    print(\"First we will stop in \" + first_destination + \" then \" + second_destination + \" , and lastly \" + final_destination)\n",
    "    \n",
    "trip_planner(\"France\", \"Germany\", \"Denmark\")    "
   ]
  },
  {
   "cell_type": "markdown",
   "metadata": {},
   "source": [
    "### Built-in-Functions vs User Defined Functions "
   ]
  },
  {
   "cell_type": "markdown",
   "metadata": {},
   "source": [
    "The *Built-in-Functions* comes with the Python library, on the other hand the *User Defined Functions* are functions with arguments and parameters totally created by the user. Some\n",
    "examples of built-in-functions: "
   ]
  },
  {
   "cell_type": "code",
   "execution_count": 17,
   "metadata": {},
   "outputs": [
    {
     "name": "stdout",
     "output_type": "stream",
     "text": [
      "28\n",
      "The maximum price is 15.5\n",
      "The minimum price is 2.0\n",
      "10\n"
     ]
    }
   ],
   "source": [
    "destination_name = \"Venkatanarasimharajuvaripeta\"\n",
    "lenght_destination = len(destination_name)\n",
    "print(lenght_destination)\n",
    "\n",
    "def max_price(tshirt_price,shorts_price,mug_price,poster_price):\n",
    "    max_price = max(tshirt_price,shorts_price,mug_price,poster_price)\n",
    "    print(\"The maximum price is \" + str(max_price))\n",
    "\n",
    "max_price(9.75,15.50,5.99,2.00)\n",
    "\n",
    "def min_price(tshirt_price,shorts_price,mug_price,poster_price):\n",
    "    min_price = min(tshirt_price,shorts_price,mug_price,poster_price)\n",
    "    print(\"The minimum price is \" + str(min_price))\n",
    "\n",
    "min_price(9.75,15.50,5.99,2.00)    \n",
    "\n",
    "tshirt_price = 9.75\n",
    "print(round(tshirt_price))"
   ]
  },
  {
   "cell_type": "markdown",
   "metadata": {},
   "source": [
    "### Variable Access "
   ]
  },
  {
   "cell_type": "markdown",
   "metadata": {},
   "source": [
    "Some variables can only be access inside the function, if we try to call the variable outside the scope of the function Python will throw an error."
   ]
  },
  {
   "cell_type": "markdown",
   "metadata": {},
   "source": [
    "### Returns "
   ]
  },
  {
   "cell_type": "markdown",
   "metadata": {},
   "source": [
    "The *return* value can be modify or used later, when there is a result from a function that is stored in a variable, it is called a **returned function value**."
   ]
  },
  {
   "cell_type": "code",
   "execution_count": 19,
   "metadata": {},
   "outputs": [
    {
     "data": {
      "text/plain": [
       "46"
      ]
     },
     "execution_count": 19,
     "metadata": {},
     "output_type": "execute_result"
    }
   ],
   "source": [
    "def deduct_expense(budget,expense):\n",
    "    return budget - expense\n",
    "\n",
    "deduct_expense(100,54)"
   ]
  },
  {
   "cell_type": "markdown",
   "metadata": {},
   "source": [
    "### _Multiple Returns_ "
   ]
  },
  {
   "cell_type": "markdown",
   "metadata": {},
   "source": [
    "It is possible to define a function that retrieves multiples returns, the sintaxis to perform is separating each returned variable with commas. "
   ]
  },
  {
   "cell_type": "code",
   "execution_count": 22,
   "metadata": {},
   "outputs": [
    {
     "name": "stdout",
     "output_type": "stream",
     "text": [
      "Rome\n",
      "Venice\n",
      "Florence\n"
     ]
    }
   ],
   "source": [
    "def top_tourist_locations_italy():\n",
    "    first =\"Rome\"\n",
    "    second = \"Venice\"\n",
    "    third = \"Florence\"\n",
    "    return first, second, third\n",
    "\n",
    "most_popular1, most_popular2, most_popular3 = top_tourist_locations_italy()\n",
    "\n",
    "print(most_popular1)\n",
    "print(most_popular2)\n",
    "print(most_popular3)"
   ]
  },
  {
   "cell_type": "markdown",
   "metadata": {},
   "source": [
    "## Review: "
   ]
  },
  {
   "cell_type": "markdown",
   "metadata": {},
   "source": [
    "The TripPlanner V1.0 a software specialized in travel services required our help to applied python functions to its improvement.\n",
    "\n",
    "1.- Create a function called **\"trip_planner_welcome()\"** with a parameter name and print the following message: Welcome to tripplanner v1.0 + name."
   ]
  },
  {
   "cell_type": "code",
   "execution_count": 35,
   "metadata": {},
   "outputs": [
    {
     "name": "stdout",
     "output_type": "stream",
     "text": [
      "Welcome to tripplanner v1.0 Manolo\n"
     ]
    }
   ],
   "source": [
    "def trip_planner_welcome(name):\n",
    "    print(\"Welcome to tripplanner v1.0 \" + str(name))\n",
    "\n",
    "trip_planner_welcome(\"Manolo\")    "
   ]
  },
  {
   "cell_type": "markdown",
   "metadata": {},
   "source": [
    "2.- Generate the messages from the users´ trips with a function called **destination_setup()** and using four parameters: *origin*, *destination*, *estimated_time* and *mode_of_transport*. The parameter mode_of_transport should have a default value of **\"Car\"**. Also it is neccesary to print the following message:\n",
    "\n",
    "Your trip starts off in + *origin*\n",
    "And you are traveling to + *destination*\n",
    "You will be traveling by + *mode_of_transport*\n",
    "It will take approximately + *estimated_time* hours"
   ]
  },
  {
   "cell_type": "code",
   "execution_count": 42,
   "metadata": {},
   "outputs": [],
   "source": [
    "def destination_setup(origin,destination, estimated_time,mode_of_transport=\"Car\"):\n",
    "    print(\"Your trip starts off in \" + origin +\" and you are traveling to \" + destination + \" You will be traveling by \" + mode_of_transport + \" It will take approximately \" + str(estimated_time) + \"hours\")  "
   ]
  },
  {
   "cell_type": "code",
   "execution_count": 43,
   "metadata": {},
   "outputs": [
    {
     "name": "stdout",
     "output_type": "stream",
     "text": [
      "Your trip starts off in L.A and you are traveling to NYC You will be traveling by Car It will take approximately 7hours\n"
     ]
    }
   ],
   "source": [
    "destination_setup(\"L.A\", \"NYC\", 7,\"Car\")"
   ]
  },
  {
   "cell_type": "markdown",
   "metadata": {},
   "source": [
    "3.- Finally define a function that calculates a rounded time based on a decimal for our user´s trip. This function should be called **estimated_time_rounded()** using a parameter *estimated_time*. "
   ]
  },
  {
   "cell_type": "code",
   "execution_count": 46,
   "metadata": {},
   "outputs": [
    {
     "data": {
      "text/plain": [
       "16"
      ]
     },
     "execution_count": 46,
     "metadata": {},
     "output_type": "execute_result"
    }
   ],
   "source": [
    "def estimated_time_rounded(estimated_time):\n",
    "    rounded_value = round(estimated_time)\n",
    "    return rounded_value\n",
    "\n",
    "estimated_time_rounded(15.6)"
   ]
  }
 ],
 "metadata": {
  "kernelspec": {
   "display_name": "Python 3",
   "language": "python",
   "name": "python3"
  },
  "language_info": {
   "codemirror_mode": {
    "name": "ipython",
    "version": 3
   },
   "file_extension": ".py",
   "mimetype": "text/x-python",
   "name": "python",
   "nbconvert_exporter": "python",
   "pygments_lexer": "ipython3",
   "version": "3.8.3"
  }
 },
 "nbformat": 4,
 "nbformat_minor": 4
}
