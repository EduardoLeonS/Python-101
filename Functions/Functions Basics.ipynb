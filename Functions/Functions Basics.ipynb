{
 "cells": [
  {
   "cell_type": "markdown",
   "metadata": {},
   "source": [
    "# Functions:"
   ]
  },
  {
   "cell_type": "markdown",
   "metadata": {},
   "source": [
    "A function in Python follows three components:\n",
    "\n",
    "* **_def_**: this keyword indicates the beginning of our function, it always follows an designed name for the created function. Normally the function name goes according the task performed. \n",
    "\n",
    "* **_()_**: after the name function the parenthesis will store the parameters used.\n",
    "\n",
    "* **_:_** : lastly the colon indicates the end of the function"
   ]
  },
  {
   "cell_type": "code",
   "execution_count": 2,
   "metadata": {},
   "outputs": [
    {
     "name": "stdout",
     "output_type": "stream",
     "text": [
      "Functions on Python rocks!\n"
     ]
    }
   ],
   "source": [
    "def function_basic():\n",
    "    print(\"Functions on Python rocks!\")\n",
    "\n",
    "function_basic()    "
   ]
  },
  {
   "cell_type": "markdown",
   "metadata": {},
   "source": [
    "### *Parameters & Arguments* "
   ]
  },
  {
   "cell_type": "markdown",
   "metadata": {},
   "source": [
    "The parameters allows to accept data as an input value, these parameters goes inside the parenthesis ():\n",
    "\n",
    "* **_def my_function(single_parameter)_**\n",
    "\n",
    "The argument is the data that is passed in when we call the function and assigned to the parameter name.\n",
    "\n",
    "* **_my_function(Testing)_**"
   ]
  },
  {
   "cell_type": "code",
   "execution_count": 4,
   "metadata": {},
   "outputs": [
    {
     "name": "stdout",
     "output_type": "stream",
     "text": [
      "Looks like you are planning a trip to visit Central Park\n",
      "You can use the public subway system to get to Central Park\n"
     ]
    }
   ],
   "source": [
    "def generate_trip_instructions(location):\n",
    "    print(\"Looks like you are planning a trip to visit \" + location)\n",
    "    print(\"You can use the public subway system to get to \" + location)\n",
    "\n",
    "generate_trip_instructions(\"Central Park\")    "
   ]
  },
  {
   "cell_type": "markdown",
   "metadata": {},
   "source": [
    "#### Multiple Parameters"
   ]
  },
  {
   "cell_type": "markdown",
   "metadata": {},
   "source": [
    "A function can take two or more parameters and it is neccesary to pass the argument values for both of them. Ordering is important due their position will map to the position of the arguments and will determined their assigned value in the function body."
   ]
  },
  {
   "cell_type": "code",
   "execution_count": 6,
   "metadata": {},
   "outputs": [
    {
     "name": "stdout",
     "output_type": "stream",
     "text": [
      "105 95 200\n"
     ]
    }
   ],
   "source": [
    "def calculate_expenses(plane_ticket_price,car_rental_rate, hotel_rate, trip_time):\n",
    "    car_rental_total = car_rental_rate + trip_time\n",
    "    hotel_total = hotel_rate + trip_time - 10\n",
    "    print(car_rental_total, hotel_total, plane_ticket_price)\n",
    "\n",
    "calculate_expenses(200,100,100,5)    "
   ]
  },
  {
   "cell_type": "markdown",
   "metadata": {},
   "source": [
    "### *Types of arguments* "
   ]
  },
  {
   "cell_type": "markdown",
   "metadata": {},
   "source": [
    "Python has three types of arguments which could be used within the functions. \n",
    "\n",
    "* **_Positional Arguments_**: this types of arguments can be called by their position in the function position. Theis assignments depend on their positions in the function call. \n",
    "\n",
    "* **_Keyword Arguments_** : arguments called by their name, refers to what each argument is assigned to in the function call. Ex: calculate_taxi_price **(rate = 0.5)**:\n",
    "\n",
    "* **_Default Arguments_** : arguments with a default value."
   ]
  },
  {
   "cell_type": "code",
   "execution_count": 7,
   "metadata": {},
   "outputs": [
    {
     "name": "stdout",
     "output_type": "stream",
     "text": [
      "Here is what your trip will look like!\n",
      "First we will stop in France then Germany , and lastly Denmark\n"
     ]
    }
   ],
   "source": [
    "def trip_planner(first_destination, second_destination, final_destination):\n",
    "    print(\"Here is what your trip will look like!\")\n",
    "    print(\"First we will stop in \" + first_destination + \" then \" + second_destination + \" , and lastly \" + final_destination)\n",
    "    \n",
    "trip_planner(\"France\", \"Germany\", \"Denmark\")    "
   ]
  },
  {
   "cell_type": "markdown",
   "metadata": {},
   "source": [
    "### Built-in-Functions vs User Defined Functions "
   ]
  },
  {
   "cell_type": "markdown",
   "metadata": {},
   "source": [
    "The *Built-in-Functions* comes with the Python library, on the other hand the *User Defined Functions* are functions with arguments and parameters totally created by the user. Some\n",
    "examples of built-in-functions: "
   ]
  },
  {
   "cell_type": "code",
   "execution_count": 17,
   "metadata": {},
   "outputs": [
    {
     "name": "stdout",
     "output_type": "stream",
     "text": [
      "28\n",
      "The maximum price is 15.5\n",
      "The minimum price is 2.0\n",
      "10\n"
     ]
    }
   ],
   "source": [
    "destination_name = \"Venkatanarasimharajuvaripeta\"\n",
    "lenght_destination = len(destination_name)\n",
    "print(lenght_destination)\n",
    "\n",
    "def max_price(tshirt_price,shorts_price,mug_price,poster_price):\n",
    "    max_price = max(tshirt_price,shorts_price,mug_price,poster_price)\n",
    "    print(\"The maximum price is \" + str(max_price))\n",
    "\n",
    "max_price(9.75,15.50,5.99,2.00)\n",
    "\n",
    "def min_price(tshirt_price,shorts_price,mug_price,poster_price):\n",
    "    min_price = min(tshirt_price,shorts_price,mug_price,poster_price)\n",
    "    print(\"The minimum price is \" + str(min_price))\n",
    "\n",
    "min_price(9.75,15.50,5.99,2.00)    \n",
    "\n",
    "tshirt_price = 9.75\n",
    "print(round(tshirt_price))"
   ]
  },
  {
   "cell_type": "markdown",
   "metadata": {},
   "source": [
    "### Variable Access "
   ]
  },
  {
   "cell_type": "code",
   "execution_count": null,
   "metadata": {},
   "outputs": [],
   "source": []
  }
 ],
 "metadata": {
  "kernelspec": {
   "display_name": "Python 3",
   "language": "python",
   "name": "python3"
  },
  "language_info": {
   "codemirror_mode": {
    "name": "ipython",
    "version": 3
   },
   "file_extension": ".py",
   "mimetype": "text/x-python",
   "name": "python",
   "nbconvert_exporter": "python",
   "pygments_lexer": "ipython3",
   "version": "3.8.3"
  }
 },
 "nbformat": 4,
 "nbformat_minor": 4
}
